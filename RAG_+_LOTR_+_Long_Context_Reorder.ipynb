{
  "nbformat": 4,
  "nbformat_minor": 0,
  "metadata": {
    "colab": {
      "provenance": [],
      "authorship_tag": "ABX9TyNj3yxRS5eb/lYY2+9czGlQ",
      "include_colab_link": true
    },
    "kernelspec": {
      "name": "python3",
      "display_name": "Python 3"
    },
    "language_info": {
      "name": "python"
    }
  },
  "cells": [
    {
      "cell_type": "markdown",
      "metadata": {
        "id": "view-in-github",
        "colab_type": "text"
      },
      "source": [
        "<a href=\"https://colab.research.google.com/github/anikch/RAG-LOTR-Long-Context-Reorder/blob/main/RAG_%2B_LOTR_%2B_Long_Context_Reorder.ipynb\" target=\"_parent\"><img src=\"https://colab.research.google.com/assets/colab-badge.svg\" alt=\"Open In Colab\"/></a>"
      ]
    },
    {
      "cell_type": "markdown",
      "source": [
        "\"Lord of the Retrievers\", also referred to as MergerRetriever, is designed to consolidate the outputs of various retrievers into a unified list by integrating the outcomes of their get_relevant_documents() functions. This integrated list consists of documents pertinent to the search query, ranked according to their relevance by different retrievers.\n",
        "\n",
        "Regardless of the underlying model architecture, introducing more than ten retrieved documents significantly hampers performance. Essentially, when models are required to sift through extensive information to find relevant data, they often overlook the documents provided. According to research (https://arxiv.org/abs/2307.03172), models encounter difficulties when trying to pinpoint crucial information located in the middle of lengthy contexts. It has been found that optimal results are typically achieved when vital information is situated at the beginning or end of the input context. Moreover, the longer the input context, the more pronounced the decline in model performance, even for models specifically engineered to handle long contexts. To mitigate this issue, this module rearranges the retrieved items, which proves beneficial in scenarios requiring a substantial number of top-k results."
      ],
      "metadata": {
        "id": "exCv6659j4VH"
      }
    },
    {
      "cell_type": "code",
      "source": [
        "!pip install langchain\n",
        "!pip install chromadb\n",
        "!pip install sentence_transformers\n",
        "!pip install pypdf"
      ],
      "metadata": {
        "colab": {
          "base_uri": "https://localhost:8080/"
        },
        "id": "f3oyZ_n9vz12",
        "outputId": "007176c2-b307-4b28-b9e0-d02891ef25d3"
      },
      "execution_count": 14,
      "outputs": [
        {
          "output_type": "stream",
          "name": "stdout",
          "text": [
            "Requirement already satisfied: langchain in /usr/local/lib/python3.10/dist-packages (0.1.6)\n",
            "Requirement already satisfied: PyYAML>=5.3 in /usr/local/lib/python3.10/dist-packages (from langchain) (6.0.1)\n",
            "Requirement already satisfied: SQLAlchemy<3,>=1.4 in /usr/local/lib/python3.10/dist-packages (from langchain) (2.0.25)\n",
            "Requirement already satisfied: aiohttp<4.0.0,>=3.8.3 in /usr/local/lib/python3.10/dist-packages (from langchain) (3.9.3)\n",
            "Requirement already satisfied: async-timeout<5.0.0,>=4.0.0 in /usr/local/lib/python3.10/dist-packages (from langchain) (4.0.3)\n",
            "Requirement already satisfied: dataclasses-json<0.7,>=0.5.7 in /usr/local/lib/python3.10/dist-packages (from langchain) (0.6.4)\n",
            "Requirement already satisfied: jsonpatch<2.0,>=1.33 in /usr/local/lib/python3.10/dist-packages (from langchain) (1.33)\n",
            "Requirement already satisfied: langchain-community<0.1,>=0.0.18 in /usr/local/lib/python3.10/dist-packages (from langchain) (0.0.19)\n",
            "Requirement already satisfied: langchain-core<0.2,>=0.1.22 in /usr/local/lib/python3.10/dist-packages (from langchain) (0.1.22)\n",
            "Requirement already satisfied: langsmith<0.1,>=0.0.83 in /usr/local/lib/python3.10/dist-packages (from langchain) (0.0.87)\n",
            "Requirement already satisfied: numpy<2,>=1 in /usr/local/lib/python3.10/dist-packages (from langchain) (1.23.5)\n",
            "Requirement already satisfied: pydantic<3,>=1 in /usr/local/lib/python3.10/dist-packages (from langchain) (2.6.1)\n",
            "Requirement already satisfied: requests<3,>=2 in /usr/local/lib/python3.10/dist-packages (from langchain) (2.31.0)\n",
            "Requirement already satisfied: tenacity<9.0.0,>=8.1.0 in /usr/local/lib/python3.10/dist-packages (from langchain) (8.2.3)\n",
            "Requirement already satisfied: aiosignal>=1.1.2 in /usr/local/lib/python3.10/dist-packages (from aiohttp<4.0.0,>=3.8.3->langchain) (1.3.1)\n",
            "Requirement already satisfied: attrs>=17.3.0 in /usr/local/lib/python3.10/dist-packages (from aiohttp<4.0.0,>=3.8.3->langchain) (23.2.0)\n",
            "Requirement already satisfied: frozenlist>=1.1.1 in /usr/local/lib/python3.10/dist-packages (from aiohttp<4.0.0,>=3.8.3->langchain) (1.4.1)\n",
            "Requirement already satisfied: multidict<7.0,>=4.5 in /usr/local/lib/python3.10/dist-packages (from aiohttp<4.0.0,>=3.8.3->langchain) (6.0.5)\n",
            "Requirement already satisfied: yarl<2.0,>=1.0 in /usr/local/lib/python3.10/dist-packages (from aiohttp<4.0.0,>=3.8.3->langchain) (1.9.4)\n",
            "Requirement already satisfied: marshmallow<4.0.0,>=3.18.0 in /usr/local/lib/python3.10/dist-packages (from dataclasses-json<0.7,>=0.5.7->langchain) (3.20.2)\n",
            "Requirement already satisfied: typing-inspect<1,>=0.4.0 in /usr/local/lib/python3.10/dist-packages (from dataclasses-json<0.7,>=0.5.7->langchain) (0.9.0)\n",
            "Requirement already satisfied: jsonpointer>=1.9 in /usr/local/lib/python3.10/dist-packages (from jsonpatch<2.0,>=1.33->langchain) (2.4)\n",
            "Requirement already satisfied: anyio<5,>=3 in /usr/local/lib/python3.10/dist-packages (from langchain-core<0.2,>=0.1.22->langchain) (3.7.1)\n",
            "Requirement already satisfied: packaging<24.0,>=23.2 in /usr/local/lib/python3.10/dist-packages (from langchain-core<0.2,>=0.1.22->langchain) (23.2)\n",
            "Requirement already satisfied: annotated-types>=0.4.0 in /usr/local/lib/python3.10/dist-packages (from pydantic<3,>=1->langchain) (0.6.0)\n",
            "Requirement already satisfied: pydantic-core==2.16.2 in /usr/local/lib/python3.10/dist-packages (from pydantic<3,>=1->langchain) (2.16.2)\n",
            "Requirement already satisfied: typing-extensions>=4.6.1 in /usr/local/lib/python3.10/dist-packages (from pydantic<3,>=1->langchain) (4.9.0)\n",
            "Requirement already satisfied: charset-normalizer<4,>=2 in /usr/local/lib/python3.10/dist-packages (from requests<3,>=2->langchain) (3.3.2)\n",
            "Requirement already satisfied: idna<4,>=2.5 in /usr/local/lib/python3.10/dist-packages (from requests<3,>=2->langchain) (3.6)\n",
            "Requirement already satisfied: urllib3<3,>=1.21.1 in /usr/local/lib/python3.10/dist-packages (from requests<3,>=2->langchain) (2.0.7)\n",
            "Requirement already satisfied: certifi>=2017.4.17 in /usr/local/lib/python3.10/dist-packages (from requests<3,>=2->langchain) (2024.2.2)\n",
            "Requirement already satisfied: greenlet!=0.4.17 in /usr/local/lib/python3.10/dist-packages (from SQLAlchemy<3,>=1.4->langchain) (3.0.3)\n",
            "Requirement already satisfied: sniffio>=1.1 in /usr/local/lib/python3.10/dist-packages (from anyio<5,>=3->langchain-core<0.2,>=0.1.22->langchain) (1.3.0)\n",
            "Requirement already satisfied: exceptiongroup in /usr/local/lib/python3.10/dist-packages (from anyio<5,>=3->langchain-core<0.2,>=0.1.22->langchain) (1.2.0)\n",
            "Requirement already satisfied: mypy-extensions>=0.3.0 in /usr/local/lib/python3.10/dist-packages (from typing-inspect<1,>=0.4.0->dataclasses-json<0.7,>=0.5.7->langchain) (1.0.0)\n",
            "Requirement already satisfied: chromadb in /usr/local/lib/python3.10/dist-packages (0.4.22)\n",
            "Requirement already satisfied: build>=1.0.3 in /usr/local/lib/python3.10/dist-packages (from chromadb) (1.0.3)\n",
            "Requirement already satisfied: requests>=2.28 in /usr/local/lib/python3.10/dist-packages (from chromadb) (2.31.0)\n",
            "Requirement already satisfied: pydantic>=1.9 in /usr/local/lib/python3.10/dist-packages (from chromadb) (2.6.1)\n",
            "Requirement already satisfied: chroma-hnswlib==0.7.3 in /usr/local/lib/python3.10/dist-packages (from chromadb) (0.7.3)\n",
            "Requirement already satisfied: fastapi>=0.95.2 in /usr/local/lib/python3.10/dist-packages (from chromadb) (0.109.2)\n",
            "Requirement already satisfied: uvicorn[standard]>=0.18.3 in /usr/local/lib/python3.10/dist-packages (from chromadb) (0.27.1)\n",
            "Requirement already satisfied: numpy>=1.22.5 in /usr/local/lib/python3.10/dist-packages (from chromadb) (1.23.5)\n",
            "Requirement already satisfied: posthog>=2.4.0 in /usr/local/lib/python3.10/dist-packages (from chromadb) (3.4.0)\n",
            "Requirement already satisfied: typing-extensions>=4.5.0 in /usr/local/lib/python3.10/dist-packages (from chromadb) (4.9.0)\n",
            "Requirement already satisfied: pulsar-client>=3.1.0 in /usr/local/lib/python3.10/dist-packages (from chromadb) (3.4.0)\n",
            "Requirement already satisfied: onnxruntime>=1.14.1 in /usr/local/lib/python3.10/dist-packages (from chromadb) (1.17.0)\n",
            "Requirement already satisfied: opentelemetry-api>=1.2.0 in /usr/local/lib/python3.10/dist-packages (from chromadb) (1.22.0)\n",
            "Requirement already satisfied: opentelemetry-exporter-otlp-proto-grpc>=1.2.0 in /usr/local/lib/python3.10/dist-packages (from chromadb) (1.22.0)\n",
            "Requirement already satisfied: opentelemetry-instrumentation-fastapi>=0.41b0 in /usr/local/lib/python3.10/dist-packages (from chromadb) (0.43b0)\n",
            "Requirement already satisfied: opentelemetry-sdk>=1.2.0 in /usr/local/lib/python3.10/dist-packages (from chromadb) (1.22.0)\n",
            "Requirement already satisfied: tokenizers>=0.13.2 in /usr/local/lib/python3.10/dist-packages (from chromadb) (0.15.1)\n",
            "Requirement already satisfied: pypika>=0.48.9 in /usr/local/lib/python3.10/dist-packages (from chromadb) (0.48.9)\n",
            "Requirement already satisfied: tqdm>=4.65.0 in /usr/local/lib/python3.10/dist-packages (from chromadb) (4.66.1)\n",
            "Requirement already satisfied: overrides>=7.3.1 in /usr/local/lib/python3.10/dist-packages (from chromadb) (7.7.0)\n",
            "Requirement already satisfied: importlib-resources in /usr/local/lib/python3.10/dist-packages (from chromadb) (6.1.1)\n",
            "Requirement already satisfied: grpcio>=1.58.0 in /usr/local/lib/python3.10/dist-packages (from chromadb) (1.60.1)\n",
            "Requirement already satisfied: bcrypt>=4.0.1 in /usr/local/lib/python3.10/dist-packages (from chromadb) (4.1.2)\n",
            "Requirement already satisfied: typer>=0.9.0 in /usr/local/lib/python3.10/dist-packages (from chromadb) (0.9.0)\n",
            "Requirement already satisfied: kubernetes>=28.1.0 in /usr/local/lib/python3.10/dist-packages (from chromadb) (29.0.0)\n",
            "Requirement already satisfied: tenacity>=8.2.3 in /usr/local/lib/python3.10/dist-packages (from chromadb) (8.2.3)\n",
            "Requirement already satisfied: PyYAML>=6.0.0 in /usr/local/lib/python3.10/dist-packages (from chromadb) (6.0.1)\n",
            "Requirement already satisfied: mmh3>=4.0.1 in /usr/local/lib/python3.10/dist-packages (from chromadb) (4.1.0)\n",
            "Requirement already satisfied: packaging>=19.0 in /usr/local/lib/python3.10/dist-packages (from build>=1.0.3->chromadb) (23.2)\n",
            "Requirement already satisfied: pyproject_hooks in /usr/local/lib/python3.10/dist-packages (from build>=1.0.3->chromadb) (1.0.0)\n",
            "Requirement already satisfied: tomli>=1.1.0 in /usr/local/lib/python3.10/dist-packages (from build>=1.0.3->chromadb) (2.0.1)\n",
            "Requirement already satisfied: starlette<0.37.0,>=0.36.3 in /usr/local/lib/python3.10/dist-packages (from fastapi>=0.95.2->chromadb) (0.36.3)\n",
            "Requirement already satisfied: certifi>=14.05.14 in /usr/local/lib/python3.10/dist-packages (from kubernetes>=28.1.0->chromadb) (2024.2.2)\n",
            "Requirement already satisfied: six>=1.9.0 in /usr/local/lib/python3.10/dist-packages (from kubernetes>=28.1.0->chromadb) (1.16.0)\n",
            "Requirement already satisfied: python-dateutil>=2.5.3 in /usr/local/lib/python3.10/dist-packages (from kubernetes>=28.1.0->chromadb) (2.8.2)\n",
            "Requirement already satisfied: google-auth>=1.0.1 in /usr/local/lib/python3.10/dist-packages (from kubernetes>=28.1.0->chromadb) (2.27.0)\n",
            "Requirement already satisfied: websocket-client!=0.40.0,!=0.41.*,!=0.42.*,>=0.32.0 in /usr/local/lib/python3.10/dist-packages (from kubernetes>=28.1.0->chromadb) (1.7.0)\n",
            "Requirement already satisfied: requests-oauthlib in /usr/local/lib/python3.10/dist-packages (from kubernetes>=28.1.0->chromadb) (1.3.1)\n",
            "Requirement already satisfied: oauthlib>=3.2.2 in /usr/local/lib/python3.10/dist-packages (from kubernetes>=28.1.0->chromadb) (3.2.2)\n",
            "Requirement already satisfied: urllib3>=1.24.2 in /usr/local/lib/python3.10/dist-packages (from kubernetes>=28.1.0->chromadb) (2.0.7)\n",
            "Requirement already satisfied: coloredlogs in /usr/local/lib/python3.10/dist-packages (from onnxruntime>=1.14.1->chromadb) (15.0.1)\n",
            "Requirement already satisfied: flatbuffers in /usr/local/lib/python3.10/dist-packages (from onnxruntime>=1.14.1->chromadb) (23.5.26)\n",
            "Requirement already satisfied: protobuf in /usr/local/lib/python3.10/dist-packages (from onnxruntime>=1.14.1->chromadb) (3.20.3)\n",
            "Requirement already satisfied: sympy in /usr/local/lib/python3.10/dist-packages (from onnxruntime>=1.14.1->chromadb) (1.12)\n",
            "Requirement already satisfied: deprecated>=1.2.6 in /usr/local/lib/python3.10/dist-packages (from opentelemetry-api>=1.2.0->chromadb) (1.2.14)\n",
            "Requirement already satisfied: importlib-metadata<7.0,>=6.0 in /usr/local/lib/python3.10/dist-packages (from opentelemetry-api>=1.2.0->chromadb) (6.11.0)\n",
            "Requirement already satisfied: backoff<3.0.0,>=1.10.0 in /usr/local/lib/python3.10/dist-packages (from opentelemetry-exporter-otlp-proto-grpc>=1.2.0->chromadb) (2.2.1)\n",
            "Requirement already satisfied: googleapis-common-protos~=1.52 in /usr/local/lib/python3.10/dist-packages (from opentelemetry-exporter-otlp-proto-grpc>=1.2.0->chromadb) (1.62.0)\n",
            "Requirement already satisfied: opentelemetry-exporter-otlp-proto-common==1.22.0 in /usr/local/lib/python3.10/dist-packages (from opentelemetry-exporter-otlp-proto-grpc>=1.2.0->chromadb) (1.22.0)\n",
            "Requirement already satisfied: opentelemetry-proto==1.22.0 in /usr/local/lib/python3.10/dist-packages (from opentelemetry-exporter-otlp-proto-grpc>=1.2.0->chromadb) (1.22.0)\n",
            "Requirement already satisfied: opentelemetry-instrumentation-asgi==0.43b0 in /usr/local/lib/python3.10/dist-packages (from opentelemetry-instrumentation-fastapi>=0.41b0->chromadb) (0.43b0)\n",
            "Requirement already satisfied: opentelemetry-instrumentation==0.43b0 in /usr/local/lib/python3.10/dist-packages (from opentelemetry-instrumentation-fastapi>=0.41b0->chromadb) (0.43b0)\n",
            "Requirement already satisfied: opentelemetry-semantic-conventions==0.43b0 in /usr/local/lib/python3.10/dist-packages (from opentelemetry-instrumentation-fastapi>=0.41b0->chromadb) (0.43b0)\n",
            "Requirement already satisfied: opentelemetry-util-http==0.43b0 in /usr/local/lib/python3.10/dist-packages (from opentelemetry-instrumentation-fastapi>=0.41b0->chromadb) (0.43b0)\n",
            "Requirement already satisfied: setuptools>=16.0 in /usr/local/lib/python3.10/dist-packages (from opentelemetry-instrumentation==0.43b0->opentelemetry-instrumentation-fastapi>=0.41b0->chromadb) (67.7.2)\n",
            "Requirement already satisfied: wrapt<2.0.0,>=1.0.0 in /usr/local/lib/python3.10/dist-packages (from opentelemetry-instrumentation==0.43b0->opentelemetry-instrumentation-fastapi>=0.41b0->chromadb) (1.14.1)\n",
            "Requirement already satisfied: asgiref~=3.0 in /usr/local/lib/python3.10/dist-packages (from opentelemetry-instrumentation-asgi==0.43b0->opentelemetry-instrumentation-fastapi>=0.41b0->chromadb) (3.7.2)\n",
            "Requirement already satisfied: monotonic>=1.5 in /usr/local/lib/python3.10/dist-packages (from posthog>=2.4.0->chromadb) (1.6)\n",
            "Requirement already satisfied: annotated-types>=0.4.0 in /usr/local/lib/python3.10/dist-packages (from pydantic>=1.9->chromadb) (0.6.0)\n",
            "Requirement already satisfied: pydantic-core==2.16.2 in /usr/local/lib/python3.10/dist-packages (from pydantic>=1.9->chromadb) (2.16.2)\n",
            "Requirement already satisfied: charset-normalizer<4,>=2 in /usr/local/lib/python3.10/dist-packages (from requests>=2.28->chromadb) (3.3.2)\n",
            "Requirement already satisfied: idna<4,>=2.5 in /usr/local/lib/python3.10/dist-packages (from requests>=2.28->chromadb) (3.6)\n",
            "Requirement already satisfied: huggingface_hub<1.0,>=0.16.4 in /usr/local/lib/python3.10/dist-packages (from tokenizers>=0.13.2->chromadb) (0.20.3)\n",
            "Requirement already satisfied: click<9.0.0,>=7.1.1 in /usr/local/lib/python3.10/dist-packages (from typer>=0.9.0->chromadb) (8.1.7)\n",
            "Requirement already satisfied: h11>=0.8 in /usr/local/lib/python3.10/dist-packages (from uvicorn[standard]>=0.18.3->chromadb) (0.14.0)\n",
            "Requirement already satisfied: httptools>=0.5.0 in /usr/local/lib/python3.10/dist-packages (from uvicorn[standard]>=0.18.3->chromadb) (0.6.1)\n",
            "Requirement already satisfied: python-dotenv>=0.13 in /usr/local/lib/python3.10/dist-packages (from uvicorn[standard]>=0.18.3->chromadb) (1.0.1)\n",
            "Requirement already satisfied: uvloop!=0.15.0,!=0.15.1,>=0.14.0 in /usr/local/lib/python3.10/dist-packages (from uvicorn[standard]>=0.18.3->chromadb) (0.19.0)\n",
            "Requirement already satisfied: watchfiles>=0.13 in /usr/local/lib/python3.10/dist-packages (from uvicorn[standard]>=0.18.3->chromadb) (0.21.0)\n",
            "Requirement already satisfied: websockets>=10.4 in /usr/local/lib/python3.10/dist-packages (from uvicorn[standard]>=0.18.3->chromadb) (12.0)\n",
            "Requirement already satisfied: cachetools<6.0,>=2.0.0 in /usr/local/lib/python3.10/dist-packages (from google-auth>=1.0.1->kubernetes>=28.1.0->chromadb) (5.3.2)\n",
            "Requirement already satisfied: pyasn1-modules>=0.2.1 in /usr/local/lib/python3.10/dist-packages (from google-auth>=1.0.1->kubernetes>=28.1.0->chromadb) (0.3.0)\n",
            "Requirement already satisfied: rsa<5,>=3.1.4 in /usr/local/lib/python3.10/dist-packages (from google-auth>=1.0.1->kubernetes>=28.1.0->chromadb) (4.9)\n",
            "Requirement already satisfied: filelock in /usr/local/lib/python3.10/dist-packages (from huggingface_hub<1.0,>=0.16.4->tokenizers>=0.13.2->chromadb) (3.13.1)\n",
            "Requirement already satisfied: fsspec>=2023.5.0 in /usr/local/lib/python3.10/dist-packages (from huggingface_hub<1.0,>=0.16.4->tokenizers>=0.13.2->chromadb) (2023.6.0)\n",
            "Requirement already satisfied: zipp>=0.5 in /usr/local/lib/python3.10/dist-packages (from importlib-metadata<7.0,>=6.0->opentelemetry-api>=1.2.0->chromadb) (3.17.0)\n",
            "Requirement already satisfied: anyio<5,>=3.4.0 in /usr/local/lib/python3.10/dist-packages (from starlette<0.37.0,>=0.36.3->fastapi>=0.95.2->chromadb) (3.7.1)\n",
            "Requirement already satisfied: humanfriendly>=9.1 in /usr/local/lib/python3.10/dist-packages (from coloredlogs->onnxruntime>=1.14.1->chromadb) (10.0)\n",
            "Requirement already satisfied: mpmath>=0.19 in /usr/local/lib/python3.10/dist-packages (from sympy->onnxruntime>=1.14.1->chromadb) (1.3.0)\n",
            "Requirement already satisfied: sniffio>=1.1 in /usr/local/lib/python3.10/dist-packages (from anyio<5,>=3.4.0->starlette<0.37.0,>=0.36.3->fastapi>=0.95.2->chromadb) (1.3.0)\n",
            "Requirement already satisfied: exceptiongroup in /usr/local/lib/python3.10/dist-packages (from anyio<5,>=3.4.0->starlette<0.37.0,>=0.36.3->fastapi>=0.95.2->chromadb) (1.2.0)\n",
            "Requirement already satisfied: pyasn1<0.6.0,>=0.4.6 in /usr/local/lib/python3.10/dist-packages (from pyasn1-modules>=0.2.1->google-auth>=1.0.1->kubernetes>=28.1.0->chromadb) (0.5.1)\n",
            "Requirement already satisfied: sentence_transformers in /usr/local/lib/python3.10/dist-packages (2.3.1)\n",
            "Requirement already satisfied: transformers<5.0.0,>=4.32.0 in /usr/local/lib/python3.10/dist-packages (from sentence_transformers) (4.35.2)\n",
            "Requirement already satisfied: tqdm in /usr/local/lib/python3.10/dist-packages (from sentence_transformers) (4.66.1)\n",
            "Requirement already satisfied: torch>=1.11.0 in /usr/local/lib/python3.10/dist-packages (from sentence_transformers) (2.1.0+cu121)\n",
            "Requirement already satisfied: numpy in /usr/local/lib/python3.10/dist-packages (from sentence_transformers) (1.23.5)\n",
            "Requirement already satisfied: scikit-learn in /usr/local/lib/python3.10/dist-packages (from sentence_transformers) (1.2.2)\n",
            "Requirement already satisfied: scipy in /usr/local/lib/python3.10/dist-packages (from sentence_transformers) (1.11.4)\n",
            "Requirement already satisfied: nltk in /usr/local/lib/python3.10/dist-packages (from sentence_transformers) (3.8.1)\n",
            "Requirement already satisfied: sentencepiece in /usr/local/lib/python3.10/dist-packages (from sentence_transformers) (0.1.99)\n",
            "Requirement already satisfied: huggingface-hub>=0.15.1 in /usr/local/lib/python3.10/dist-packages (from sentence_transformers) (0.20.3)\n",
            "Requirement already satisfied: Pillow in /usr/local/lib/python3.10/dist-packages (from sentence_transformers) (9.4.0)\n",
            "Requirement already satisfied: filelock in /usr/local/lib/python3.10/dist-packages (from huggingface-hub>=0.15.1->sentence_transformers) (3.13.1)\n",
            "Requirement already satisfied: fsspec>=2023.5.0 in /usr/local/lib/python3.10/dist-packages (from huggingface-hub>=0.15.1->sentence_transformers) (2023.6.0)\n",
            "Requirement already satisfied: requests in /usr/local/lib/python3.10/dist-packages (from huggingface-hub>=0.15.1->sentence_transformers) (2.31.0)\n",
            "Requirement already satisfied: pyyaml>=5.1 in /usr/local/lib/python3.10/dist-packages (from huggingface-hub>=0.15.1->sentence_transformers) (6.0.1)\n",
            "Requirement already satisfied: typing-extensions>=3.7.4.3 in /usr/local/lib/python3.10/dist-packages (from huggingface-hub>=0.15.1->sentence_transformers) (4.9.0)\n",
            "Requirement already satisfied: packaging>=20.9 in /usr/local/lib/python3.10/dist-packages (from huggingface-hub>=0.15.1->sentence_transformers) (23.2)\n",
            "Requirement already satisfied: sympy in /usr/local/lib/python3.10/dist-packages (from torch>=1.11.0->sentence_transformers) (1.12)\n",
            "Requirement already satisfied: networkx in /usr/local/lib/python3.10/dist-packages (from torch>=1.11.0->sentence_transformers) (3.2.1)\n",
            "Requirement already satisfied: jinja2 in /usr/local/lib/python3.10/dist-packages (from torch>=1.11.0->sentence_transformers) (3.1.3)\n",
            "Requirement already satisfied: triton==2.1.0 in /usr/local/lib/python3.10/dist-packages (from torch>=1.11.0->sentence_transformers) (2.1.0)\n",
            "Requirement already satisfied: regex!=2019.12.17 in /usr/local/lib/python3.10/dist-packages (from transformers<5.0.0,>=4.32.0->sentence_transformers) (2023.12.25)\n",
            "Requirement already satisfied: tokenizers<0.19,>=0.14 in /usr/local/lib/python3.10/dist-packages (from transformers<5.0.0,>=4.32.0->sentence_transformers) (0.15.1)\n",
            "Requirement already satisfied: safetensors>=0.3.1 in /usr/local/lib/python3.10/dist-packages (from transformers<5.0.0,>=4.32.0->sentence_transformers) (0.4.2)\n",
            "Requirement already satisfied: click in /usr/local/lib/python3.10/dist-packages (from nltk->sentence_transformers) (8.1.7)\n",
            "Requirement already satisfied: joblib in /usr/local/lib/python3.10/dist-packages (from nltk->sentence_transformers) (1.3.2)\n",
            "Requirement already satisfied: threadpoolctl>=2.0.0 in /usr/local/lib/python3.10/dist-packages (from scikit-learn->sentence_transformers) (3.2.0)\n",
            "Requirement already satisfied: MarkupSafe>=2.0 in /usr/local/lib/python3.10/dist-packages (from jinja2->torch>=1.11.0->sentence_transformers) (2.1.5)\n",
            "Requirement already satisfied: charset-normalizer<4,>=2 in /usr/local/lib/python3.10/dist-packages (from requests->huggingface-hub>=0.15.1->sentence_transformers) (3.3.2)\n",
            "Requirement already satisfied: idna<4,>=2.5 in /usr/local/lib/python3.10/dist-packages (from requests->huggingface-hub>=0.15.1->sentence_transformers) (3.6)\n",
            "Requirement already satisfied: urllib3<3,>=1.21.1 in /usr/local/lib/python3.10/dist-packages (from requests->huggingface-hub>=0.15.1->sentence_transformers) (2.0.7)\n",
            "Requirement already satisfied: certifi>=2017.4.17 in /usr/local/lib/python3.10/dist-packages (from requests->huggingface-hub>=0.15.1->sentence_transformers) (2024.2.2)\n",
            "Requirement already satisfied: mpmath>=0.19 in /usr/local/lib/python3.10/dist-packages (from sympy->torch>=1.11.0->sentence_transformers) (1.3.0)\n",
            "Collecting pypdf\n",
            "  Downloading pypdf-4.0.1-py3-none-any.whl (283 kB)\n",
            "\u001b[2K     \u001b[90m━━━━━━━━━━━━━━━━━━━━━━━━━━━━━━━━━━━━━━━━\u001b[0m \u001b[32m284.0/284.0 kB\u001b[0m \u001b[31m2.3 MB/s\u001b[0m eta \u001b[36m0:00:00\u001b[0m\n",
            "\u001b[?25hInstalling collected packages: pypdf\n",
            "Successfully installed pypdf-4.0.1\n"
          ]
        }
      ]
    },
    {
      "cell_type": "code",
      "source": [
        "import os\n",
        "import chromadb\n",
        "from langchain.document_loaders import PyPDFLoader\n",
        "from langchain.text_splitter import RecursiveCharacterTextSplitter\n",
        "from langchain.retrievers.merger_retriever import MergerRetriever\n",
        "from langchain.vectorstores import Chroma\n",
        "from langchain.embeddings import HuggingFaceBgeEmbeddings"
      ],
      "metadata": {
        "id": "dRXy6vwgkC-j"
      },
      "execution_count": 15,
      "outputs": []
    },
    {
      "cell_type": "code",
      "source": [
        "#Load Embedding Model\n",
        "\n",
        "embedding_model= \"BAAI/bge-large-en\"\n",
        "model_kwargs= {'device': 'cpu'}\n",
        "encode_kwargs = {'normalize_embeddings': False}\n",
        "hf_bge_em= HuggingFaceBgeEmbeddings(model_name= embedding_model, model_kwargs= model_kwargs, encode_kwargs= encode_kwargs)"
      ],
      "metadata": {
        "id": "HZIUuNd_lyYP"
      },
      "execution_count": 16,
      "outputs": []
    },
    {
      "cell_type": "code",
      "source": [
        "text_splitter= RecursiveCharacterTextSplitter(chunk_size= 1000, chunk_overlap= 100)"
      ],
      "metadata": {
        "id": "OoQ7Hp0T4C2i"
      },
      "execution_count": 17,
      "outputs": []
    },
    {
      "cell_type": "code",
      "source": [
        "# Load documents and create chunks\n",
        "\n",
        "doc1= PyPDFLoader(\"/content/leac203.pdf\").load()\n",
        "doc1_chunks= text_splitter.split_documents(doc1)\n",
        "\n",
        "doc2= PyPDFLoader(\"/content/murder-case-section-302-ipc-409077.pdf\").load()\n",
        "doc2_chunks= text_splitter.split_documents(doc2)"
      ],
      "metadata": {
        "id": "3z6uP0gW3tC2"
      },
      "execution_count": 18,
      "outputs": []
    },
    {
      "cell_type": "code",
      "source": [
        "# Create vector stores and store vectors\n",
        "\n",
        "vec_store1= Chroma.from_documents(doc1_chunks, hf_bge_em, collection_metadata= {\"hnsw:space\": \"cosine\"}, persist_directory= \"vec_st1\")\n",
        "vec_store2= Chroma.from_documents(doc2_chunks, hf_bge_em, collection_metadata= {\"hnsw:space\": \"cosine\"}, persist_directory= \"vec_st2\")"
      ],
      "metadata": {
        "id": "StSCA7Jz4o4b"
      },
      "execution_count": 19,
      "outputs": []
    },
    {
      "cell_type": "code",
      "source": [
        "# Load Vector Store\n",
        "vec_st1= Chroma(persist_directory= \"/content/vec_st1\", embedding_function= hf_bge_em)\n",
        "vec_st2= Chroma(persist_directory= \"/content/vec_st2\", embedding_function= hf_bge_em)"
      ],
      "metadata": {
        "id": "Zy7CUgMY18XX"
      },
      "execution_count": 20,
      "outputs": []
    },
    {
      "cell_type": "markdown",
      "source": [
        "# Create MergerRetriever / Lord of the Retrievers"
      ],
      "metadata": {
        "id": "gYVL1GQ6BoML"
      }
    },
    {
      "cell_type": "code",
      "source": [
        "# Merge Retrievers\n",
        "vec_st1_retriever= vec_store1.as_retriever(search_type= \"mmr\", search_kwargs={\"k\": 5, \"include_metadata\": True})\n",
        "vec_st2_retriever= vec_store2.as_retriever(search_type= \"mmr\", search_kwargs={\"k\": 5, \"include_metadata\": True})\n",
        "merged_retriver= MergerRetriever(retrievers= [vec_st1_retriever, vec_st2_retriever])\n"
      ],
      "metadata": {
        "id": "uN4-Q_Tq3bFG"
      },
      "execution_count": 42,
      "outputs": []
    },
    {
      "cell_type": "code",
      "source": [
        "# Get merged context\n",
        "for chunks in merged_retriver.get_relevant_documents(\"What was the judgement given by the High Court?\"):\n",
        "    print(chunks.page_content)"
      ],
      "metadata": {
        "colab": {
          "base_uri": "https://localhost:8080/"
        },
        "id": "upEE2qCr7ZfN",
        "outputId": "294c1046-b5d1-47b2-ea38-0972dc00dc96"
      },
      "execution_count": 43,
      "outputs": [
        {
          "output_type": "stream",
          "name": "stdout",
          "text": [
            "so received as share warrants.\n",
            "Money received against share warrants’ to be disclosed as a separate line item\n",
            "under ‘shareholder’s fund’.\n",
            "Rationalised 2023-24\n",
            "4.3It is further submitted that the High Court has rightly observed and\n",
            "held that the incident occurred in a sudden fight in the heat of passion on\n",
            "a sudden quarrel in the mehendi ceremony and that the weapon used\n",
            "was “Phakadiyat” which is used as a firewood primarily where food is\n",
            "being cooked and where in the heat of passion the accused picked up\n",
            "the “Phakadiyat” and used the same and therefore the case would fall\n",
            "under Fourth exception to Section 300 IPC.  It is therefore submitted that\n",
            "the High Court has rightly altered the finding of murder to one of culpable\n",
            "homicide  not  amounting  to  murder  and  has  rightly  converted  the\n",
            "sentence from life imprisonment to ten years rigorous imprisonment.\n",
            "4.4Making the above submissions, it is prayed to dismiss the present\n",
            "appeal.\n",
            "5.We have heard the learned counsel for the respective parties at\n",
            "length.\n",
            "At the outset, it is required to be noted that the trial Court convicted\n",
            "146 Accountancy : Company Accounts and Analysis of Financial Statements\n",
            "the amount paid for them. While, preparing statement of profit and\n",
            "loss the revenue is included in the sales of the year in which the sale\n",
            "was undertaken even though the sale price may be received over a\n",
            "number of years. The assumption is known as realisation postulate.\n",
            "4.Personal Judgements:  Under more than one circumstance, facts and\n",
            "figures presented through financial statements are based on personal\n",
            "opinion, estimates and judgements. The depreciation is provided taking\n",
            "into consideration the useful economic life of fixed assets. Provisions\n",
            "for doubtful debts are made on estimates and personal judgements.\n",
            "In valuing inventory, cost or market value, whichever is less is being\n",
            "followed. While deciding either cost of inventory or market value of\n",
            "inventory, many personal judgements are to be made based on certain\n",
            "considerations. Personal opinion, judgements and estimates are made\n",
            "side, a further statement of the accused under Section 313 Cr.P.C. was\n",
            "recorded.  Thereafter, on appreciation of evidence and believing the\n",
            "evidence  of  eye  witnesses,  namely,  Darshani  Devi,  the  wife  of  the\n",
            "deceased and others and considering the nature of the injuries sustained\n",
            "by the deceased, the trial Court held that the culpable homicide was\n",
            "murder and thereby convicted the accused for the offence punishable\n",
            "under Section 302 IPC and imposed the sentence of life imprisonment.\n",
            "2.3Feeling aggrieved and dissatisfied with the judgment and order of\n",
            "conviction passed by the trial Court and sentencing him to undergo life\n",
            "imprisonment,  the  accused  preferred  Criminal  Appeal  No.  110/2016\n",
            "before the High Court.  By the impugned judgment and order, though the\n",
            "High Court has believed the evidence of all the eye witnesses including\n",
            "PW1  –  the  wife  of  the  deceased,  however,  has  held  that  culpable\n",
            "homicide did not amount to murder, solely on the ground that it is not a\n",
            "Ltd.\n",
            "Inventories Rs. 7,00,000; Equity Share Capital Rs. 16,00,000; Plant\n",
            "and Machinery Rs. 8,00,000; 8% Preference Share Capital Rs.6,00,000; General Reserves Rs. 6,00,000; Bills payable Rs. 1,50,000;Provision for taxation Rs. 2,50,000; Land and Building Rs.16,00,000; Non-current Investments Rs. 10,00,000; Cash at BankRs. 5,00,000; Creditors Rs. 2,00,000; 12% Debentures Rs.12,00,000.\n",
            "5. Prepare the balance sheet of Jyoti Ltd., as at March 31, 2017 from\n",
            "the following information.\n",
            "Building Rs. 10,00,000; Investments in the shares of Metro Tyers\n",
            "Ltd. Rs. 3,00,000; Stores & Spares Rs. 1,00,000; Statement ofProfit and Loss (Dr.) Rs. 90,000; 5,00,000 Equity Shares of Rs.20 each fully paid-up; Capital Redemption Reserve Rs. 1,00,000; 10%\n",
            "Debentures Rs. 3,00,000; Unpaid dividends Rs. 90,000; Share optionsoutstanding account Rs. 10,000.\n",
            "6. Brinda Ltd., has furnished the following information:\n",
            "(a) 25,000, 10% debentures of Rs.100 each;\n",
            "a)In the case of Virsa Singh (supra) , in paragraphs 16 & 17, it was\n",
            "observed and held as under:\n",
            "‘16. … The question is not whether the prisoner intended to inflict a\n",
            "serious injury or a trivial one but whether he intended to inflict the injury\n",
            "that is proved to be present. If he can show that he did not, or if the totality\n",
            "of the circumstances justify such an inference, then, of course, the intent\n",
            "that the section requires is not proved. But if there is nothing beyond the\n",
            "injury and the fact that the appellant inflicted it, the only possible inference\n",
            "is that he intended to inflict it. Whether he knew of its seriousness, or\n",
            "intended serious consequences, is neither here nor there.  The question,\n",
            "so far as the intention is concerned, is not whether he intended to kill, or to\n",
            "inflict an injury of a particular degree of seriousness, but whether he\n",
            "intended to inflict the injury in question; and once the existence of the\n",
            "12\n",
            "(approved) by the shareholders in their Annual General Meeting. Board of\n",
            "Directors propose the dividend after the annual accounts for the year have\n",
            "been prepared. Annual General Meeting of the shareholders is held thereafter\n",
            "meaning it is held in the next financial year.\n",
            "Shareholders may reduce the amount of proposed dividend but cannot increase\n",
            "it. Since declaration of proposed (final) dividend is contingent upon\n",
            "shareholders approval, Proposed dividend is shown as contingent liability.\n",
            "AS-4, Contingencies and Events Occurring after the Balance Sheet Date\n",
            "prescribes that proposed dividend will be shown in the Notes to Accounts.\n",
            "After the Proposed dividend is declared by the shareholders, it becomes a\n",
            "liability for the company and is accounted in the books. As a consequence,\n",
            "proposed dividend of previous year will be declared (approved) by the\n",
            "shareholders in the current year and this declared (approved) proposed dividend\n",
            "REPORTABLE\n",
            "IN THE SUPREME COURT OF INDIA\n",
            "CRIMINAL APPELLATE JURISDICTION\n",
            "CRIMINAL APPEAL NO. 143   OF 2022\n",
            "The State of Uttarakhand …Appellant\n",
            "Versus\n",
            "Sachendra Singh Rawat …Respondent\n",
            "J U D G M E N T\n",
            "M.R. SHAH, J.\n",
            "1.Feeling aggrieved and dissatisfied with the impugned judgment\n",
            "and order dated 11.12.2018 passed by the High Court of Uttarakhand at\n",
            "Nainital in Criminal Appeal No. 110 of 2016, by which the High Court has\n",
            "allowed the said appeal preferred by the respondent – accused and has\n",
            "held  that  culpable  homicide  in  the  instant  case  is  not  murder  and\n",
            "consequently has converted the sentence from life imprisonment to ten\n",
            "years rigorous imprisonment, the State of Uttarakhand has preferred the\n",
            "present appeal.\n",
            "1\n",
            "Notes to Accounts\n",
            "Particulars Amount\n",
            "(Rs.)\n",
            "1. Long-term borrowings:\n",
            "10% debentures 2,00,000\n",
            "2. Short-term provisions:\n",
            "Provision for taxation 16,000\n",
            "3. Fixed assets:\n",
            "(i) Tangible assets\n",
            "Motor vehicles 4,75,000\n",
            "Rationalised 2023-24\n",
            "deceased  Virendra  Singh  and  he  is  sentenced  to  undergo  life\n",
            "imprisonment.  Accordingly, the judgment and order passed by the trial\n",
            "Court convicting the accused for the offence under Section 302 IPC and\n",
            "sentencing him to life imprisonment is hereby restored.\n",
            "……………………………………J.\n",
            "[M.R. SHAH]\n",
            "NEW DELHI; ……………………………………J.\n",
            "FEBRUARY 04, 2022. [B.V. NAGARATHNA]\n",
            "18\n"
          ]
        }
      ]
    },
    {
      "cell_type": "code",
      "source": [
        "relevent_docs= merged_retriver.get_relevant_documents('What was the judgement given by the High Court?')\n",
        "relevent_docs"
      ],
      "metadata": {
        "colab": {
          "base_uri": "https://localhost:8080/"
        },
        "id": "GG81bLML8Bqd",
        "outputId": "d5c37a6a-f424-4867-e3e7-bfef853501ae"
      },
      "execution_count": 44,
      "outputs": [
        {
          "output_type": "execute_result",
          "data": {
            "text/plain": [
              "[Document(page_content='so received as share warrants.\\nMoney received against share warrants’ to be disclosed as a separate line item\\nunder ‘shareholder’s fund’.\\nRationalised 2023-24', metadata={'page': 7, 'source': '/content/leac203.pdf'}),\n",
              " Document(page_content='4.3It is further submitted that the High Court has rightly observed and\\nheld that the incident occurred in a sudden fight in the heat of passion on\\na sudden quarrel in the mehendi ceremony and that the weapon used\\nwas “Phakadiyat” which is used as a firewood primarily where food is\\nbeing cooked and where in the heat of passion the accused picked up\\nthe “Phakadiyat” and used the same and therefore the case would fall\\nunder Fourth exception to Section 300 IPC.  It is therefore submitted that\\nthe High Court has rightly altered the finding of murder to one of culpable\\nhomicide  not  amounting  to  murder  and  has  rightly  converted  the\\nsentence from life imprisonment to ten years rigorous imprisonment.\\n4.4Making the above submissions, it is prayed to dismiss the present\\nappeal.\\n5.We have heard the learned counsel for the respective parties at\\nlength.\\nAt the outset, it is required to be noted that the trial Court convicted', metadata={'page': 8, 'source': '/content/murder-case-section-302-ipc-409077.pdf'}),\n",
              " Document(page_content='146 Accountancy : Company Accounts and Analysis of Financial Statements\\nthe amount paid for them. While, preparing statement of profit and\\nloss the revenue is included in the sales of the year in which the sale\\nwas undertaken even though the sale price may be received over a\\nnumber of years. The assumption is known as realisation postulate.\\n4.Personal Judgements:  Under more than one circumstance, facts and\\nfigures presented through financial statements are based on personal\\nopinion, estimates and judgements. The depreciation is provided taking\\ninto consideration the useful economic life of fixed assets. Provisions\\nfor doubtful debts are made on estimates and personal judgements.\\nIn valuing inventory, cost or market value, whichever is less is being\\nfollowed. While deciding either cost of inventory or market value of\\ninventory, many personal judgements are to be made based on certain\\nconsiderations. Personal opinion, judgements and estimates are made', metadata={'page': 2, 'source': '/content/leac203.pdf'}),\n",
              " Document(page_content='side, a further statement of the accused under Section 313 Cr.P.C. was\\nrecorded.  Thereafter, on appreciation of evidence and believing the\\nevidence  of  eye  witnesses,  namely,  Darshani  Devi,  the  wife  of  the\\ndeceased and others and considering the nature of the injuries sustained\\nby the deceased, the trial Court held that the culpable homicide was\\nmurder and thereby convicted the accused for the offence punishable\\nunder Section 302 IPC and imposed the sentence of life imprisonment.\\n2.3Feeling aggrieved and dissatisfied with the judgment and order of\\nconviction passed by the trial Court and sentencing him to undergo life\\nimprisonment,  the  accused  preferred  Criminal  Appeal  No.  110/2016\\nbefore the High Court.  By the impugned judgment and order, though the\\nHigh Court has believed the evidence of all the eye witnesses including\\nPW1  –  the  wife  of  the  deceased,  however,  has  held  that  culpable\\nhomicide did not amount to murder, solely on the ground that it is not a', metadata={'page': 3, 'source': '/content/murder-case-section-302-ipc-409077.pdf'}),\n",
              " Document(page_content='Ltd.\\nInventories Rs. 7,00,000; Equity Share Capital Rs. 16,00,000; Plant\\nand Machinery Rs. 8,00,000; 8% Preference Share Capital Rs.6,00,000; General Reserves Rs. 6,00,000; Bills payable Rs. 1,50,000;Provision for taxation Rs. 2,50,000; Land and Building Rs.16,00,000; Non-current Investments Rs. 10,00,000; Cash at BankRs. 5,00,000; Creditors Rs. 2,00,000; 12% Debentures Rs.12,00,000.\\n5. Prepare the balance sheet of Jyoti Ltd., as at March 31, 2017 from\\nthe following information.\\nBuilding Rs. 10,00,000; Investments in the shares of Metro Tyers\\nLtd. Rs. 3,00,000; Stores & Spares Rs. 1,00,000; Statement ofProfit and Loss (Dr.) Rs. 90,000; 5,00,000 Equity Shares of Rs.20 each fully paid-up; Capital Redemption Reserve Rs. 1,00,000; 10%\\nDebentures Rs. 3,00,000; Unpaid dividends Rs. 90,000; Share optionsoutstanding account Rs. 10,000.\\n6. Brinda Ltd., has furnished the following information:\\n(a) 25,000, 10% debentures of Rs.100 each;', metadata={'page': 25, 'source': '/content/leac203.pdf'}),\n",
              " Document(page_content='a)In the case of Virsa Singh (supra) , in paragraphs 16 & 17, it was\\nobserved and held as under:\\n‘16. … The question is not whether the prisoner intended to inflict a\\nserious injury or a trivial one but whether he intended to inflict the injury\\nthat is proved to be present. If he can show that he did not, or if the totality\\nof the circumstances justify such an inference, then, of course, the intent\\nthat the section requires is not proved. But if there is nothing beyond the\\ninjury and the fact that the appellant inflicted it, the only possible inference\\nis that he intended to inflict it. Whether he knew of its seriousness, or\\nintended serious consequences, is neither here nor there.  The question,\\nso far as the intention is concerned, is not whether he intended to kill, or to\\ninflict an injury of a particular degree of seriousness, but whether he\\nintended to inflict the injury in question; and once the existence of the\\n12', metadata={'page': 11, 'source': '/content/murder-case-section-302-ipc-409077.pdf'}),\n",
              " Document(page_content='(approved) by the shareholders in their Annual General Meeting. Board of\\nDirectors propose the dividend after the annual accounts for the year have\\nbeen prepared. Annual General Meeting of the shareholders is held thereafter\\nmeaning it is held in the next financial year.\\nShareholders may reduce the amount of proposed dividend but cannot increase\\nit. Since declaration of proposed (final) dividend is contingent upon\\nshareholders approval, Proposed dividend is shown as contingent liability.\\nAS-4, Contingencies and Events Occurring after the Balance Sheet Date\\nprescribes that proposed dividend will be shown in the Notes to Accounts.\\nAfter the Proposed dividend is declared by the shareholders, it becomes a\\nliability for the company and is accounted in the books. As a consequence,\\nproposed dividend of previous year will be declared (approved) by the\\nshareholders in the current year and this declared (approved) proposed dividend', metadata={'page': 11, 'source': '/content/leac203.pdf'}),\n",
              " Document(page_content='REPORTABLE\\nIN THE SUPREME COURT OF INDIA\\nCRIMINAL APPELLATE JURISDICTION\\nCRIMINAL APPEAL NO. 143   OF 2022\\nThe State of Uttarakhand …Appellant\\nVersus\\nSachendra Singh Rawat …Respondent\\nJ U D G M E N T\\nM.R. SHAH, J.\\n1.Feeling aggrieved and dissatisfied with the impugned judgment\\nand order dated 11.12.2018 passed by the High Court of Uttarakhand at\\nNainital in Criminal Appeal No. 110 of 2016, by which the High Court has\\nallowed the said appeal preferred by the respondent – accused and has\\nheld  that  culpable  homicide  in  the  instant  case  is  not  murder  and\\nconsequently has converted the sentence from life imprisonment to ten\\nyears rigorous imprisonment, the State of Uttarakhand has preferred the\\npresent appeal.\\n1', metadata={'page': 0, 'source': '/content/murder-case-section-302-ipc-409077.pdf'}),\n",
              " Document(page_content='Notes to Accounts\\nParticulars Amount\\n(Rs.)\\n1. Long-term borrowings:\\n10% debentures 2,00,000\\n2. Short-term provisions:\\nProvision for taxation 16,000\\n3. Fixed assets:\\n(i) Tangible assets\\nMotor vehicles 4,75,000\\nRationalised 2023-24', metadata={'page': 16, 'source': '/content/leac203.pdf'}),\n",
              " Document(page_content='deceased  Virendra  Singh  and  he  is  sentenced  to  undergo  life\\nimprisonment.  Accordingly, the judgment and order passed by the trial\\nCourt convicting the accused for the offence under Section 302 IPC and\\nsentencing him to life imprisonment is hereby restored.\\n……………………………………J.\\n[M.R. SHAH]\\nNEW DELHI; ……………………………………J.\\nFEBRUARY 04, 2022. [B.V. NAGARATHNA]\\n18', metadata={'page': 17, 'source': '/content/murder-case-section-302-ipc-409077.pdf'})]"
            ]
          },
          "metadata": {},
          "execution_count": 44
        }
      ]
    },
    {
      "cell_type": "markdown",
      "source": [
        "Top context chunk is not relevant"
      ],
      "metadata": {
        "id": "EB3uZepuB93G"
      }
    },
    {
      "cell_type": "markdown",
      "source": [
        "# Handle 'Lost in the Middle' using Long Context Reorder"
      ],
      "metadata": {
        "id": "qiZFBXxdBSZu"
      }
    },
    {
      "cell_type": "code",
      "source": [
        "from langchain.retrievers.document_compressors import DocumentCompressorPipeline\n",
        "from langchain_community.document_transformers import (\n",
        "    EmbeddingsClusteringFilter,\n",
        "    EmbeddingsRedundantFilter,\n",
        ")\n",
        "from langchain_community.document_transformers import LongContextReorder\n",
        "from langchain.retrievers import ContextualCompressionRetriever"
      ],
      "metadata": {
        "id": "SNP-2-yK8jwU"
      },
      "execution_count": 47,
      "outputs": []
    },
    {
      "cell_type": "code",
      "source": [
        "filter= EmbeddingsRedundantFilter(embeddings= hf_bge_em)\n",
        "reordering= LongContextReorder()\n",
        "pipeline = DocumentCompressorPipeline(transformers=[filter, reordering])\n",
        "compression_retriever_reordered= ContextualCompressionRetriever(\n",
        "    base_compressor= pipeline, base_retriever= merged_retriver\n",
        ")"
      ],
      "metadata": {
        "id": "Q2iwFezMAE3B"
      },
      "execution_count": 48,
      "outputs": []
    },
    {
      "cell_type": "code",
      "source": [
        "for chunks in compression_retriever_reordered.get_relevant_documents(\"What was the judgement given by the High Court?\"):\n",
        "    print(chunks.page_content)"
      ],
      "metadata": {
        "colab": {
          "base_uri": "https://localhost:8080/"
        },
        "id": "CGCL765_Aq_I",
        "outputId": "75e34f60-c942-4923-85f0-8d74c437ff2f"
      },
      "execution_count": 50,
      "outputs": [
        {
          "output_type": "stream",
          "name": "stdout",
          "text": [
            "4.3It is further submitted that the High Court has rightly observed and\n",
            "held that the incident occurred in a sudden fight in the heat of passion on\n",
            "a sudden quarrel in the mehendi ceremony and that the weapon used\n",
            "was “Phakadiyat” which is used as a firewood primarily where food is\n",
            "being cooked and where in the heat of passion the accused picked up\n",
            "the “Phakadiyat” and used the same and therefore the case would fall\n",
            "under Fourth exception to Section 300 IPC.  It is therefore submitted that\n",
            "the High Court has rightly altered the finding of murder to one of culpable\n",
            "homicide  not  amounting  to  murder  and  has  rightly  converted  the\n",
            "sentence from life imprisonment to ten years rigorous imprisonment.\n",
            "4.4Making the above submissions, it is prayed to dismiss the present\n",
            "appeal.\n",
            "5.We have heard the learned counsel for the respective parties at\n",
            "length.\n",
            "At the outset, it is required to be noted that the trial Court convicted\n",
            "side, a further statement of the accused under Section 313 Cr.P.C. was\n",
            "recorded.  Thereafter, on appreciation of evidence and believing the\n",
            "evidence  of  eye  witnesses,  namely,  Darshani  Devi,  the  wife  of  the\n",
            "deceased and others and considering the nature of the injuries sustained\n",
            "by the deceased, the trial Court held that the culpable homicide was\n",
            "murder and thereby convicted the accused for the offence punishable\n",
            "under Section 302 IPC and imposed the sentence of life imprisonment.\n",
            "2.3Feeling aggrieved and dissatisfied with the judgment and order of\n",
            "conviction passed by the trial Court and sentencing him to undergo life\n",
            "imprisonment,  the  accused  preferred  Criminal  Appeal  No.  110/2016\n",
            "before the High Court.  By the impugned judgment and order, though the\n",
            "High Court has believed the evidence of all the eye witnesses including\n",
            "PW1  –  the  wife  of  the  deceased,  however,  has  held  that  culpable\n",
            "homicide did not amount to murder, solely on the ground that it is not a\n",
            "a)In the case of Virsa Singh (supra) , in paragraphs 16 & 17, it was\n",
            "observed and held as under:\n",
            "‘16. … The question is not whether the prisoner intended to inflict a\n",
            "serious injury or a trivial one but whether he intended to inflict the injury\n",
            "that is proved to be present. If he can show that he did not, or if the totality\n",
            "of the circumstances justify such an inference, then, of course, the intent\n",
            "that the section requires is not proved. But if there is nothing beyond the\n",
            "injury and the fact that the appellant inflicted it, the only possible inference\n",
            "is that he intended to inflict it. Whether he knew of its seriousness, or\n",
            "intended serious consequences, is neither here nor there.  The question,\n",
            "so far as the intention is concerned, is not whether he intended to kill, or to\n",
            "inflict an injury of a particular degree of seriousness, but whether he\n",
            "intended to inflict the injury in question; and once the existence of the\n",
            "12\n",
            "REPORTABLE\n",
            "IN THE SUPREME COURT OF INDIA\n",
            "CRIMINAL APPELLATE JURISDICTION\n",
            "CRIMINAL APPEAL NO. 143   OF 2022\n",
            "The State of Uttarakhand …Appellant\n",
            "Versus\n",
            "Sachendra Singh Rawat …Respondent\n",
            "J U D G M E N T\n",
            "M.R. SHAH, J.\n",
            "1.Feeling aggrieved and dissatisfied with the impugned judgment\n",
            "and order dated 11.12.2018 passed by the High Court of Uttarakhand at\n",
            "Nainital in Criminal Appeal No. 110 of 2016, by which the High Court has\n",
            "allowed the said appeal preferred by the respondent – accused and has\n",
            "held  that  culpable  homicide  in  the  instant  case  is  not  murder  and\n",
            "consequently has converted the sentence from life imprisonment to ten\n",
            "years rigorous imprisonment, the State of Uttarakhand has preferred the\n",
            "present appeal.\n",
            "1\n",
            "deceased  Virendra  Singh  and  he  is  sentenced  to  undergo  life\n",
            "imprisonment.  Accordingly, the judgment and order passed by the trial\n",
            "Court convicting the accused for the offence under Section 302 IPC and\n",
            "sentencing him to life imprisonment is hereby restored.\n",
            "……………………………………J.\n",
            "[M.R. SHAH]\n",
            "NEW DELHI; ……………………………………J.\n",
            "FEBRUARY 04, 2022. [B.V. NAGARATHNA]\n",
            "18\n",
            "Notes to Accounts\n",
            "Particulars Amount\n",
            "(Rs.)\n",
            "1. Long-term borrowings:\n",
            "10% debentures 2,00,000\n",
            "2. Short-term provisions:\n",
            "Provision for taxation 16,000\n",
            "3. Fixed assets:\n",
            "(i) Tangible assets\n",
            "Motor vehicles 4,75,000\n",
            "Rationalised 2023-24\n",
            "(approved) by the shareholders in their Annual General Meeting. Board of\n",
            "Directors propose the dividend after the annual accounts for the year have\n",
            "been prepared. Annual General Meeting of the shareholders is held thereafter\n",
            "meaning it is held in the next financial year.\n",
            "Shareholders may reduce the amount of proposed dividend but cannot increase\n",
            "it. Since declaration of proposed (final) dividend is contingent upon\n",
            "shareholders approval, Proposed dividend is shown as contingent liability.\n",
            "AS-4, Contingencies and Events Occurring after the Balance Sheet Date\n",
            "prescribes that proposed dividend will be shown in the Notes to Accounts.\n",
            "After the Proposed dividend is declared by the shareholders, it becomes a\n",
            "liability for the company and is accounted in the books. As a consequence,\n",
            "proposed dividend of previous year will be declared (approved) by the\n",
            "shareholders in the current year and this declared (approved) proposed dividend\n",
            "Ltd.\n",
            "Inventories Rs. 7,00,000; Equity Share Capital Rs. 16,00,000; Plant\n",
            "and Machinery Rs. 8,00,000; 8% Preference Share Capital Rs.6,00,000; General Reserves Rs. 6,00,000; Bills payable Rs. 1,50,000;Provision for taxation Rs. 2,50,000; Land and Building Rs.16,00,000; Non-current Investments Rs. 10,00,000; Cash at BankRs. 5,00,000; Creditors Rs. 2,00,000; 12% Debentures Rs.12,00,000.\n",
            "5. Prepare the balance sheet of Jyoti Ltd., as at March 31, 2017 from\n",
            "the following information.\n",
            "Building Rs. 10,00,000; Investments in the shares of Metro Tyers\n",
            "Ltd. Rs. 3,00,000; Stores & Spares Rs. 1,00,000; Statement ofProfit and Loss (Dr.) Rs. 90,000; 5,00,000 Equity Shares of Rs.20 each fully paid-up; Capital Redemption Reserve Rs. 1,00,000; 10%\n",
            "Debentures Rs. 3,00,000; Unpaid dividends Rs. 90,000; Share optionsoutstanding account Rs. 10,000.\n",
            "6. Brinda Ltd., has furnished the following information:\n",
            "(a) 25,000, 10% debentures of Rs.100 each;\n",
            "146 Accountancy : Company Accounts and Analysis of Financial Statements\n",
            "the amount paid for them. While, preparing statement of profit and\n",
            "loss the revenue is included in the sales of the year in which the sale\n",
            "was undertaken even though the sale price may be received over a\n",
            "number of years. The assumption is known as realisation postulate.\n",
            "4.Personal Judgements:  Under more than one circumstance, facts and\n",
            "figures presented through financial statements are based on personal\n",
            "opinion, estimates and judgements. The depreciation is provided taking\n",
            "into consideration the useful economic life of fixed assets. Provisions\n",
            "for doubtful debts are made on estimates and personal judgements.\n",
            "In valuing inventory, cost or market value, whichever is less is being\n",
            "followed. While deciding either cost of inventory or market value of\n",
            "inventory, many personal judgements are to be made based on certain\n",
            "considerations. Personal opinion, judgements and estimates are made\n",
            "so received as share warrants.\n",
            "Money received against share warrants’ to be disclosed as a separate line item\n",
            "under ‘shareholder’s fund’.\n",
            "Rationalised 2023-24\n"
          ]
        }
      ]
    },
    {
      "cell_type": "markdown",
      "source": [
        "Top chunk is a relevant one."
      ],
      "metadata": {
        "id": "wk34KF1ICKGK"
      }
    },
    {
      "cell_type": "code",
      "source": [],
      "metadata": {
        "id": "NDTolZn_Ariq"
      },
      "execution_count": null,
      "outputs": []
    }
  ]
}